{
  "cells": [
    {
      "cell_type": "markdown",
      "metadata": {
        "id": "KTayvli5n5oi"
      },
      "source": [
        "### Pinecone Vector DB\n",
        "\n"
      ]
    },
    {
      "cell_type": "code",
      "execution_count": null,
      "metadata": {
        "id": "VnRuXb5Pn4op"
      },
      "outputs": [],
      "source": [
        "## Create your index and apikey from here https://www.pinecone.io/\n",
        "import os\n",
        "api_key=os.getenv(\"PINECONE_API_KEY\")\n",
        "from pinecone import Pinecone\n",
        "pc=Pinecone(api_key=api_key)\n"
      ]
    },
    {
      "cell_type": "code",
      "execution_count": 2,
      "metadata": {
        "colab": {
          "base_uri": "https://localhost:8080/"
        },
        "id": "S4qBMk_ooF7e",
        "outputId": "1640a029-0a6c-41fd-b41b-2c38785719af"
      },
      "outputs": [],
      "source": [
        "# !pip install -qU langchain langchain-pinecone langchain-openai"
      ]
    },
    {
      "cell_type": "code",
      "execution_count": 2,
      "metadata": {
        "id": "Xk3bV02uoNJG"
      },
      "outputs": [],
      "source": [
        "from pinecone import Pinecone\n",
        "pc=Pinecone(api_key=api_key)"
      ]
    },
    {
      "cell_type": "code",
      "execution_count": 3,
      "metadata": {
        "id": "6FkmtNbdoNEN"
      },
      "outputs": [
        {
          "name": "stdout",
          "output_type": "stream",
          "text": [
            "Loading config....\n",
            "LLM loading...\n",
            "Loading model from provider: \n",
            "Loading model from huggingface:\n"
          ]
        },
        {
          "name": "stderr",
          "output_type": "stream",
          "text": [
            "c:\\code\\Bajaj HackRx\\Rag_app\\.venv\\Lib\\site-packages\\tqdm\\auto.py:21: TqdmWarning: IProgress not found. Please update jupyter and ipywidgets. See https://ipywidgets.readthedocs.io/en/stable/user_install.html\n",
            "  from .autonotebook import tqdm as notebook_tqdm\n"
          ]
        }
      ],
      "source": [
        "from langchain_openai import OpenAIEmbeddings\n",
        "from app.utils.model_loader import ModelLoader\n",
        "model_loader = ModelLoader(model_provider=\"huggingface\")\n",
        "embeddings_model = model_loader.load_llm()\n",
        "# embeddings = OpenAIEmbeddings(model=\"text-embedding-3-small\",dimensions=1024,api_key=\"openai_api_key\")"
      ]
    },
    {
      "cell_type": "code",
      "execution_count": 4,
      "metadata": {
        "id": "pUEG87c5oNBV"
      },
      "outputs": [],
      "source": [
        "from pinecone import ServerlessSpec\n",
        "\n",
        "index_name = \"rag-project\"  # change if desired\n",
        "\n",
        "# if not pc.has_index(index_name):\n",
        "#     pc.create_index(\n",
        "#         name=index_name,\n",
        "#         dimension=1024,\n",
        "#         metric=\"cosine\",\n",
        "#         spec=ServerlessSpec(cloud=\"aws\", region=\"us-east-1\"),\n",
        "    # )\n",
        "\n",
        "index = pc.Index(index_name)"
      ]
    },
    {
      "cell_type": "code",
      "execution_count": 9,
      "metadata": {},
      "outputs": [
        {
          "data": {
            "text/plain": [
              "{'matches': [{'id': 'db74f8fa-1f92-4395-8832-474ffe40781a',\n",
              "              'score': 0.790277302,\n",
              "              'values': []},\n",
              "             {'id': 'a1da8bc6-657e-4ef0-aea4-00fd2974f047',\n",
              "              'score': 0.789620757,\n",
              "              'values': []}],\n",
              " 'namespace': 'hackrx-index2025-09-09-18-56',\n",
              " 'usage': {'read_units': 1}}"
            ]
          },
          "execution_count": 9,
          "metadata": {},
          "output_type": "execute_result"
        }
      ],
      "source": [
        "query = \"National Parivar Mediclaim Plus Policy\"\n",
        "query_embed = embeddings_model.embed_query(query)\n",
        "index.query(\n",
        "    vector=query_embed,\n",
        "    top_k=2,\n",
        "    namespace=\"hackrx-index2025-09-09-18-56\"\n",
        ")"
      ]
    },
    {
      "cell_type": "code",
      "execution_count": 17,
      "metadata": {
        "colab": {
          "base_uri": "https://localhost:8080/"
        },
        "id": "AG6u6hNVoM-Q",
        "outputId": "349a377d-bf69-4e8f-a05e-a37f6ed888b7"
      },
      "outputs": [
        {
          "data": {
            "text/plain": [
              "<bound method PluginAware.__getattr__ of <pinecone.db_data.index.Index object at 0x0000015D4F754590>>"
            ]
          },
          "execution_count": 17,
          "metadata": {},
          "output_type": "execute_result"
        }
      ],
      "source": [
        "index.__getattr__"
      ]
    },
    {
      "cell_type": "code",
      "execution_count": 10,
      "metadata": {
        "id": "Roi5exMmoM1H"
      },
      "outputs": [],
      "source": [
        "from langchain_pinecone import PineconeVectorStore\n",
        "\n",
        "vector_store = PineconeVectorStore(index=index, embedding=embeddings_model, namespace=\"hackrx-index2025-09-09-18-56\")"
      ]
    },
    {
      "cell_type": "code",
      "execution_count": 11,
      "metadata": {
        "colab": {
          "base_uri": "https://localhost:8080/"
        },
        "id": "a5g2vYCJo1rR",
        "outputId": "86b507f6-62ff-4786-c114-25efc0352c45"
      },
      "outputs": [
        {
          "data": {
            "text/plain": [
              "<langchain_pinecone.vectorstores.PineconeVectorStore at 0x1910a1180e0>"
            ]
          },
          "execution_count": 11,
          "metadata": {},
          "output_type": "execute_result"
        }
      ],
      "source": [
        "vector_store"
      ]
    },
    {
      "cell_type": "code",
      "execution_count": null,
      "metadata": {},
      "outputs": [],
      "source": []
    },
    {
      "cell_type": "code",
      "execution_count": 14,
      "metadata": {
        "colab": {
          "base_uri": "https://localhost:8080/"
        },
        "id": "SymzuvqVo-_2",
        "outputId": "0cc4a6af-648b-429d-c715-f9f6f57d5b6a"
      },
      "outputs": [],
      "source": [
        "### Query Directly\n",
        "results = vector_store.similarity_search(\n",
        "    \"under the enactments specified under Schedule of Section 56(1) of the said Act,\",\n",
        "    k=2\n",
        "    )\n",
        "for res in results:\n",
        "    print(f\"* {res.page_content} [{res.metadata}]\")"
      ]
    },
    {
      "cell_type": "code",
      "execution_count": 15,
      "metadata": {},
      "outputs": [
        {
          "data": {
            "text/plain": [
              "[]"
            ]
          },
          "execution_count": 15,
          "metadata": {},
          "output_type": "execute_result"
        }
      ],
      "source": [
        "results"
      ]
    },
    {
      "cell_type": "code",
      "execution_count": 23,
      "metadata": {
        "colab": {
          "base_uri": "https://localhost:8080/"
        },
        "id": "a-fY5h4JpDN-",
        "outputId": "807d8c23-0e46-49a5-aef8-6f262eda395e"
      },
      "outputs": [],
      "source": [
        "results = vector_store.similarity_search_with_score(\n",
        "    \"National Parivar Mediclaim Plus Policy\", k=1\n",
        ")\n",
        "for res, score in results:\n",
        "    print(f\"* [SIM={score:3f}] {res.page_content} [{res.metadata}]\")"
      ]
    },
    {
      "cell_type": "code",
      "execution_count": 16,
      "metadata": {
        "colab": {
          "base_uri": "https://localhost:8080/"
        },
        "id": "IkcjANiwpFw5",
        "outputId": "4febdd72-e32f-465c-8642-bfcec41db18a"
      },
      "outputs": [
        {
          "name": "stderr",
          "output_type": "stream",
          "text": [
            "No relevant docs were retrieved using the relevance score threshold 0.4\n"
          ]
        }
      ],
      "source": [
        "### Retriever\n",
        "retriever = vector_store.as_retriever(\n",
        "    search_type=\"similarity_score_threshold\",\n",
        "    search_kwargs={\"k\": 1, \"score_threshold\": 0.4},\n",
        ")\n",
        "result = retriever.invoke(\"National Parivar Mediclaim Plus Policy\")"
      ]
    },
    {
      "cell_type": "code",
      "execution_count": null,
      "metadata": {
        "id": "n6PJuN7ZpJjk"
      },
      "outputs": [
        {
          "ename": "IndexError",
          "evalue": "list index out of range",
          "output_type": "error",
          "traceback": [
            "\u001b[31m---------------------------------------------------------------------------\u001b[39m",
            "\u001b[31mIndexError\u001b[39m                                Traceback (most recent call last)",
            "\u001b[36mCell\u001b[39m\u001b[36m \u001b[39m\u001b[32mIn[18]\u001b[39m\u001b[32m, line 1\u001b[39m\n\u001b[32m----> \u001b[39m\u001b[32m1\u001b[39m \u001b[38;5;28mtype\u001b[39m(\u001b[43mresult\u001b[49m\u001b[43m[\u001b[49m\u001b[32;43m0\u001b[39;49m\u001b[43m]\u001b[49m)\n",
            "\u001b[31mIndexError\u001b[39m: list index out of range"
          ]
        }
      ],
      "source": [
        "type(result)"
      ]
    }
  ],
  "metadata": {
    "colab": {
      "provenance": []
    },
    "kernelspec": {
      "display_name": "rag-app",
      "language": "python",
      "name": "python3"
    },
    "language_info": {
      "codemirror_mode": {
        "name": "ipython",
        "version": 3
      },
      "file_extension": ".py",
      "mimetype": "text/x-python",
      "name": "python",
      "nbconvert_exporter": "python",
      "pygments_lexer": "ipython3",
      "version": "3.12.4"
    }
  },
  "nbformat": 4,
  "nbformat_minor": 0
}
