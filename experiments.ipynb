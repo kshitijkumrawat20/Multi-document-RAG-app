{
 "cells": [
  {
   "cell_type": "code",
   "execution_count": 1,
   "id": "7896ff7a",
   "metadata": {},
   "outputs": [
    {
     "data": {
      "text/plain": [
       "'c:\\\\code\\\\Bajaj HackRx\\\\Rag_app'"
      ]
     },
     "execution_count": 1,
     "metadata": {},
     "output_type": "execute_result"
    }
   ],
   "source": [
    "%pwd"
   ]
  },
  {
   "cell_type": "code",
   "execution_count": null,
   "id": "8638c1e6",
   "metadata": {},
   "outputs": [
    {
     "name": "stdout",
     "output_type": "stream",
     "text": [
      "Created: c:\\code\\Bajaj HackRx\\Rag_app\\app\\__init__.py\n",
      "Created: c:\\code\\Bajaj HackRx\\Rag_app\\app\\config\\__init__.py\n",
      "Created: c:\\code\\Bajaj HackRx\\Rag_app\\app\\embedding\\__init__.py\n",
      "Created: c:\\code\\Bajaj HackRx\\Rag_app\\app\\ingestion\\__init__.py\n",
      "Created: c:\\code\\Bajaj HackRx\\Rag_app\\app\\reseasoning\\__init__.py\n",
      "Created: c:\\code\\Bajaj HackRx\\Rag_app\\app\\retrieval\\__init__.py\n",
      "Created: c:\\code\\Bajaj HackRx\\Rag_app\\app\\schemas\\__init__.py\n",
      "Created: c:\\code\\Bajaj HackRx\\Rag_app\\app\\utils\\__init__.py\n"
     ]
    }
   ],
   "source": [
    "import os \n",
    "\n",
    "for directories in os.walk(\"c:\\\\code\\\\Bajaj HackRx\\\\Rag_app\\\\app\"):\n",
    "    init_path = os.path.join(directories[0], '__init__.py')\n",
    "    if not os.path.exists(init_path):\n",
    "        with open(init_path, 'w') as init_file:\n",
    "            init_file.write(\"init file\")\n",
    "            print(f\"Created: {init_path}\")"
   ]
  },
  {
   "cell_type": "code",
   "execution_count": null,
   "id": "b7a58fc9",
   "metadata": {},
   "outputs": [],
   "source": []
  },
  {
   "cell_type": "code",
   "execution_count": null,
   "id": "6d065c7c",
   "metadata": {},
   "outputs": [],
   "source": []
  },
  {
   "cell_type": "code",
   "execution_count": null,
   "id": "d0706163",
   "metadata": {},
   "outputs": [],
   "source": []
  },
  {
   "cell_type": "code",
   "execution_count": null,
   "id": "4d3fe1fb",
   "metadata": {},
   "outputs": [],
   "source": []
  }
 ],
 "metadata": {
  "kernelspec": {
   "display_name": "rag-app",
   "language": "python",
   "name": "python3"
  },
  "language_info": {
   "codemirror_mode": {
    "name": "ipython",
    "version": 3
   },
   "file_extension": ".py",
   "mimetype": "text/x-python",
   "name": "python",
   "nbconvert_exporter": "python",
   "pygments_lexer": "ipython3",
   "version": "3.13.3"
  }
 },
 "nbformat": 4,
 "nbformat_minor": 5
}
